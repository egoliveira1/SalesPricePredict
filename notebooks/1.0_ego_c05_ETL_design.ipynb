{
 "cells": [
  {
   "cell_type": "markdown",
   "id": "9aa58722-a07e-4355-a91c-8b680f561006",
   "metadata": {},
   "source": [
    "### **1.0 IMPORTS**"
   ]
  },
  {
   "cell_type": "code",
   "execution_count": 1,
   "id": "ae6d0db0-4c7b-4ded-b92a-9319dde7ad8d",
   "metadata": {},
   "outputs": [],
   "source": [
    "import requests\n",
    "import re\n",
    "\n",
    "import pandas as pd\n",
    "import numpy  as np\n",
    "\n",
    "from datetime        import datetime\n",
    "from bs4             import BeautifulSoup\n",
    "from IPython.display import Image"
   ]
  },
  {
   "cell_type": "markdown",
   "id": "aadb0824-1692-4154-ad4a-b1bce791b0ca",
   "metadata": {
    "tags": []
   },
   "source": [
    "### **2.0 Data collection**"
   ]
  },
  {
   "cell_type": "code",
   "execution_count": 2,
   "id": "a64cd0ac-26e0-4f04-911c-0e7e729e9de6",
   "metadata": {},
   "outputs": [],
   "source": [
    "# =========================== Pagination =========================== #\n",
    "headers = {'User-Agent': 'Mozilla/5.0 (Macintosh; Intel Mac OS X 10_14_5) AppleWebKit/605.1.15 (KHTML, like Gecko) Version/12.1.1 Safari/605.1.15'}\n",
    "url = 'https://www2.hm.com/en_us/men/products/jeans.html'\n",
    "pagination_page = requests.get(url, headers = headers)\n",
    "\n",
    "# Beautiful Soup object for pagination\n",
    "soup_pagination = BeautifulSoup(pagination_page.text, 'html.parser')\n",
    "\n",
    "total_item = soup_pagination.find_all('h2', class_='load-more-heading')[0].get('data-total')\n",
    "itens_per_page = 36\n",
    "page_number = np.ceil(int(total_item) / itens_per_page)\n",
    "url_pagination = url + '?page-size=' + str(int(page_number * itens_per_page))\n",
    "\n",
    "# =========================== Product Data =========================== #\n",
    "\n",
    "# Request to URL\n",
    "main_page = requests.get(url_pagination, headers = headers)\n",
    "\n",
    "# Beautiful Soup object\n",
    "soup = BeautifulSoup(main_page.text, 'html.parser')\n",
    "products = soup.find('ul', class_='products-listing small')\n",
    "products_list_article = products.find_all('article', class_ = 'hm-product-item')\n",
    "\n",
    "# product_id\n",
    "product_id = [p.get('data-articlecode') for p in products_list_article]\n",
    "\n",
    "# product_category\n",
    "product_category = [p.get('data-category') for p in products_list_article]\n",
    "\n",
    "# product_name\n",
    "products_list_link = products.find_all('a', class_ = 'link')\n",
    "product_name = [p.get_text() for p in products_list_link]\n",
    "\n",
    "# product_price\n",
    "product_list_span = products.find_all('span', class_ = 'price regular')\n",
    "product_price = [p.get_text() for p in product_list_span]\n",
    "\n",
    "# Costruct DataFrame\n",
    "data = pd.DataFrame([product_id, product_category, product_name, product_price]).T\n",
    "data.columns = ['product_id', 'product_category', 'product_name', 'product_price']"
   ]
  },
  {
   "cell_type": "code",
   "execution_count": 3,
   "id": "fbf43fbb-04b2-4251-a497-18547c1ad930",
   "metadata": {},
   "outputs": [
    {
     "data": {
      "text/html": [
       "<div>\n",
       "<style scoped>\n",
       "    .dataframe tbody tr th:only-of-type {\n",
       "        vertical-align: middle;\n",
       "    }\n",
       "\n",
       "    .dataframe tbody tr th {\n",
       "        vertical-align: top;\n",
       "    }\n",
       "\n",
       "    .dataframe thead th {\n",
       "        text-align: right;\n",
       "    }\n",
       "</style>\n",
       "<table border=\"1\" class=\"dataframe\">\n",
       "  <thead>\n",
       "    <tr style=\"text-align: right;\">\n",
       "      <th></th>\n",
       "      <th>product_id</th>\n",
       "      <th>product_category</th>\n",
       "      <th>product_name</th>\n",
       "      <th>product_price</th>\n",
       "    </tr>\n",
       "  </thead>\n",
       "  <tbody>\n",
       "    <tr>\n",
       "      <th>0</th>\n",
       "      <td>0985197005</td>\n",
       "      <td>men_jeans_slim</td>\n",
       "      <td>Slim Jeans</td>\n",
       "      <td>$ 19.99</td>\n",
       "    </tr>\n",
       "    <tr>\n",
       "      <th>1</th>\n",
       "      <td>0938875007</td>\n",
       "      <td>men_jeans_slim</td>\n",
       "      <td>Slim Tapered Jeans</td>\n",
       "      <td>$ 39.99</td>\n",
       "    </tr>\n",
       "    <tr>\n",
       "      <th>2</th>\n",
       "      <td>0690449051</td>\n",
       "      <td>men_jeans_ripped</td>\n",
       "      <td>Skinny Jeans</td>\n",
       "      <td>$ 39.99</td>\n",
       "    </tr>\n",
       "    <tr>\n",
       "      <th>3</th>\n",
       "      <td>1013317004</td>\n",
       "      <td>men_jeans_regular</td>\n",
       "      <td>Hybrid Regular Tapered Joggers</td>\n",
       "      <td>$ 39.99</td>\n",
       "    </tr>\n",
       "    <tr>\n",
       "      <th>4</th>\n",
       "      <td>0811993028</td>\n",
       "      <td>men_jeans_regular</td>\n",
       "      <td>Regular Jeans</td>\n",
       "      <td>$ 29.99</td>\n",
       "    </tr>\n",
       "  </tbody>\n",
       "</table>\n",
       "</div>"
      ],
      "text/plain": [
       "   product_id   product_category                    product_name product_price\n",
       "0  0985197005     men_jeans_slim                      Slim Jeans       $ 19.99\n",
       "1  0938875007     men_jeans_slim              Slim Tapered Jeans       $ 39.99\n",
       "2  0690449051   men_jeans_ripped                    Skinny Jeans       $ 39.99\n",
       "3  1013317004  men_jeans_regular  Hybrid Regular Tapered Joggers       $ 39.99\n",
       "4  0811993028  men_jeans_regular                   Regular Jeans       $ 29.99"
      ]
     },
     "execution_count": 3,
     "metadata": {},
     "output_type": "execute_result"
    }
   ],
   "source": [
    "data.head()"
   ]
  },
  {
   "cell_type": "markdown",
   "id": "d39bc9c2-083e-4763-b2b6-b6715c0dacde",
   "metadata": {
    "tags": []
   },
   "source": [
    "### **2.1 Data collection by product**"
   ]
  },
  {
   "cell_type": "code",
   "execution_count": 4,
   "id": "2e940577-a423-4e21-8d1d-8f1d7aa94087",
   "metadata": {},
   "outputs": [
    {
     "ename": "KeyboardInterrupt",
     "evalue": "",
     "output_type": "error",
     "traceback": [
      "\u001b[0;31m---------------------------------------------------------------------------\u001b[0m",
      "\u001b[0;31mKeyboardInterrupt\u001b[0m                         Traceback (most recent call last)",
      "\u001b[0;32m/tmp/ipykernel_6671/1857104588.py\u001b[0m in \u001b[0;36m<module>\u001b[0;34m\u001b[0m\n\u001b[1;32m     38\u001b[0m \u001b[0;34m\u001b[0m\u001b[0m\n\u001b[1;32m     39\u001b[0m         \u001b[0;31m# Beautiful Soup Object\u001b[0m\u001b[0;34m\u001b[0m\u001b[0;34m\u001b[0m\u001b[0;34m\u001b[0m\u001b[0m\n\u001b[0;32m---> 40\u001b[0;31m         \u001b[0msoup\u001b[0m \u001b[0;34m=\u001b[0m \u001b[0mBeautifulSoup\u001b[0m\u001b[0;34m(\u001b[0m\u001b[0mpage_product_color\u001b[0m\u001b[0;34m.\u001b[0m\u001b[0mtext\u001b[0m\u001b[0;34m,\u001b[0m \u001b[0;34m'html.parser'\u001b[0m\u001b[0;34m)\u001b[0m\u001b[0;34m\u001b[0m\u001b[0;34m\u001b[0m\u001b[0m\n\u001b[0m\u001b[1;32m     41\u001b[0m \u001b[0;34m\u001b[0m\u001b[0m\n\u001b[1;32m     42\u001b[0m         \u001b[0;31m# product_name\u001b[0m\u001b[0;34m\u001b[0m\u001b[0;34m\u001b[0m\u001b[0;34m\u001b[0m\u001b[0m\n",
      "\u001b[0;32m~/.pyenv/versions/3.9.4/envs/SalesPricePredict/lib/python3.9/site-packages/bs4/__init__.py\u001b[0m in \u001b[0;36m__init__\u001b[0;34m(self, markup, features, builder, parse_only, from_encoding, exclude_encodings, element_classes, **kwargs)\u001b[0m\n\u001b[1;32m    360\u001b[0m             \u001b[0mself\u001b[0m\u001b[0;34m.\u001b[0m\u001b[0mreset\u001b[0m\u001b[0;34m(\u001b[0m\u001b[0;34m)\u001b[0m\u001b[0;34m\u001b[0m\u001b[0;34m\u001b[0m\u001b[0m\n\u001b[1;32m    361\u001b[0m             \u001b[0;32mtry\u001b[0m\u001b[0;34m:\u001b[0m\u001b[0;34m\u001b[0m\u001b[0;34m\u001b[0m\u001b[0m\n\u001b[0;32m--> 362\u001b[0;31m                 \u001b[0mself\u001b[0m\u001b[0;34m.\u001b[0m\u001b[0m_feed\u001b[0m\u001b[0;34m(\u001b[0m\u001b[0;34m)\u001b[0m\u001b[0;34m\u001b[0m\u001b[0;34m\u001b[0m\u001b[0m\n\u001b[0m\u001b[1;32m    363\u001b[0m                 \u001b[0msuccess\u001b[0m \u001b[0;34m=\u001b[0m \u001b[0;32mTrue\u001b[0m\u001b[0;34m\u001b[0m\u001b[0;34m\u001b[0m\u001b[0m\n\u001b[1;32m    364\u001b[0m                 \u001b[0;32mbreak\u001b[0m\u001b[0;34m\u001b[0m\u001b[0;34m\u001b[0m\u001b[0m\n",
      "\u001b[0;32m~/.pyenv/versions/3.9.4/envs/SalesPricePredict/lib/python3.9/site-packages/bs4/__init__.py\u001b[0m in \u001b[0;36m_feed\u001b[0;34m(self)\u001b[0m\n\u001b[1;32m    446\u001b[0m         \u001b[0mself\u001b[0m\u001b[0;34m.\u001b[0m\u001b[0mbuilder\u001b[0m\u001b[0;34m.\u001b[0m\u001b[0mreset\u001b[0m\u001b[0;34m(\u001b[0m\u001b[0;34m)\u001b[0m\u001b[0;34m\u001b[0m\u001b[0;34m\u001b[0m\u001b[0m\n\u001b[1;32m    447\u001b[0m \u001b[0;34m\u001b[0m\u001b[0m\n\u001b[0;32m--> 448\u001b[0;31m         \u001b[0mself\u001b[0m\u001b[0;34m.\u001b[0m\u001b[0mbuilder\u001b[0m\u001b[0;34m.\u001b[0m\u001b[0mfeed\u001b[0m\u001b[0;34m(\u001b[0m\u001b[0mself\u001b[0m\u001b[0;34m.\u001b[0m\u001b[0mmarkup\u001b[0m\u001b[0;34m)\u001b[0m\u001b[0;34m\u001b[0m\u001b[0;34m\u001b[0m\u001b[0m\n\u001b[0m\u001b[1;32m    449\u001b[0m         \u001b[0;31m# Close out any unfinished strings and close all the open tags.\u001b[0m\u001b[0;34m\u001b[0m\u001b[0;34m\u001b[0m\u001b[0;34m\u001b[0m\u001b[0m\n\u001b[1;32m    450\u001b[0m         \u001b[0mself\u001b[0m\u001b[0;34m.\u001b[0m\u001b[0mendData\u001b[0m\u001b[0;34m(\u001b[0m\u001b[0;34m)\u001b[0m\u001b[0;34m\u001b[0m\u001b[0;34m\u001b[0m\u001b[0m\n",
      "\u001b[0;32m~/.pyenv/versions/3.9.4/envs/SalesPricePredict/lib/python3.9/site-packages/bs4/builder/_htmlparser.py\u001b[0m in \u001b[0;36mfeed\u001b[0;34m(self, markup)\u001b[0m\n\u001b[1;32m    390\u001b[0m         \u001b[0mparser\u001b[0m\u001b[0;34m.\u001b[0m\u001b[0msoup\u001b[0m \u001b[0;34m=\u001b[0m \u001b[0mself\u001b[0m\u001b[0;34m.\u001b[0m\u001b[0msoup\u001b[0m\u001b[0;34m\u001b[0m\u001b[0;34m\u001b[0m\u001b[0m\n\u001b[1;32m    391\u001b[0m         \u001b[0;32mtry\u001b[0m\u001b[0;34m:\u001b[0m\u001b[0;34m\u001b[0m\u001b[0;34m\u001b[0m\u001b[0m\n\u001b[0;32m--> 392\u001b[0;31m             \u001b[0mparser\u001b[0m\u001b[0;34m.\u001b[0m\u001b[0mfeed\u001b[0m\u001b[0;34m(\u001b[0m\u001b[0mmarkup\u001b[0m\u001b[0;34m)\u001b[0m\u001b[0;34m\u001b[0m\u001b[0;34m\u001b[0m\u001b[0m\n\u001b[0m\u001b[1;32m    393\u001b[0m             \u001b[0mparser\u001b[0m\u001b[0;34m.\u001b[0m\u001b[0mclose\u001b[0m\u001b[0;34m(\u001b[0m\u001b[0;34m)\u001b[0m\u001b[0;34m\u001b[0m\u001b[0;34m\u001b[0m\u001b[0m\n\u001b[1;32m    394\u001b[0m         \u001b[0;32mexcept\u001b[0m \u001b[0mHTMLParseError\u001b[0m \u001b[0;32mas\u001b[0m \u001b[0me\u001b[0m\u001b[0;34m:\u001b[0m\u001b[0;34m\u001b[0m\u001b[0;34m\u001b[0m\u001b[0m\n",
      "\u001b[0;32m~/.pyenv/versions/3.9.4/lib/python3.9/html/parser.py\u001b[0m in \u001b[0;36mfeed\u001b[0;34m(self, data)\u001b[0m\n\u001b[1;32m    108\u001b[0m         \"\"\"\n\u001b[1;32m    109\u001b[0m         \u001b[0mself\u001b[0m\u001b[0;34m.\u001b[0m\u001b[0mrawdata\u001b[0m \u001b[0;34m=\u001b[0m \u001b[0mself\u001b[0m\u001b[0;34m.\u001b[0m\u001b[0mrawdata\u001b[0m \u001b[0;34m+\u001b[0m \u001b[0mdata\u001b[0m\u001b[0;34m\u001b[0m\u001b[0;34m\u001b[0m\u001b[0m\n\u001b[0;32m--> 110\u001b[0;31m         \u001b[0mself\u001b[0m\u001b[0;34m.\u001b[0m\u001b[0mgoahead\u001b[0m\u001b[0;34m(\u001b[0m\u001b[0;36m0\u001b[0m\u001b[0;34m)\u001b[0m\u001b[0;34m\u001b[0m\u001b[0;34m\u001b[0m\u001b[0m\n\u001b[0m\u001b[1;32m    111\u001b[0m \u001b[0;34m\u001b[0m\u001b[0m\n\u001b[1;32m    112\u001b[0m     \u001b[0;32mdef\u001b[0m \u001b[0mclose\u001b[0m\u001b[0;34m(\u001b[0m\u001b[0mself\u001b[0m\u001b[0;34m)\u001b[0m\u001b[0;34m:\u001b[0m\u001b[0;34m\u001b[0m\u001b[0;34m\u001b[0m\u001b[0m\n",
      "\u001b[0;32m~/.pyenv/versions/3.9.4/lib/python3.9/html/parser.py\u001b[0m in \u001b[0;36mgoahead\u001b[0;34m(self, end)\u001b[0m\n\u001b[1;32m    170\u001b[0m                     \u001b[0mk\u001b[0m \u001b[0;34m=\u001b[0m \u001b[0mself\u001b[0m\u001b[0;34m.\u001b[0m\u001b[0mparse_starttag\u001b[0m\u001b[0;34m(\u001b[0m\u001b[0mi\u001b[0m\u001b[0;34m)\u001b[0m\u001b[0;34m\u001b[0m\u001b[0;34m\u001b[0m\u001b[0m\n\u001b[1;32m    171\u001b[0m                 \u001b[0;32melif\u001b[0m \u001b[0mstartswith\u001b[0m\u001b[0;34m(\u001b[0m\u001b[0;34m\"</\"\u001b[0m\u001b[0;34m,\u001b[0m \u001b[0mi\u001b[0m\u001b[0;34m)\u001b[0m\u001b[0;34m:\u001b[0m\u001b[0;34m\u001b[0m\u001b[0;34m\u001b[0m\u001b[0m\n\u001b[0;32m--> 172\u001b[0;31m                     \u001b[0mk\u001b[0m \u001b[0;34m=\u001b[0m \u001b[0mself\u001b[0m\u001b[0;34m.\u001b[0m\u001b[0mparse_endtag\u001b[0m\u001b[0;34m(\u001b[0m\u001b[0mi\u001b[0m\u001b[0;34m)\u001b[0m\u001b[0;34m\u001b[0m\u001b[0;34m\u001b[0m\u001b[0m\n\u001b[0m\u001b[1;32m    173\u001b[0m                 \u001b[0;32melif\u001b[0m \u001b[0mstartswith\u001b[0m\u001b[0;34m(\u001b[0m\u001b[0;34m\"<!--\"\u001b[0m\u001b[0;34m,\u001b[0m \u001b[0mi\u001b[0m\u001b[0;34m)\u001b[0m\u001b[0;34m:\u001b[0m\u001b[0;34m\u001b[0m\u001b[0;34m\u001b[0m\u001b[0m\n\u001b[1;32m    174\u001b[0m                     \u001b[0mk\u001b[0m \u001b[0;34m=\u001b[0m \u001b[0mself\u001b[0m\u001b[0;34m.\u001b[0m\u001b[0mparse_comment\u001b[0m\u001b[0;34m(\u001b[0m\u001b[0mi\u001b[0m\u001b[0;34m)\u001b[0m\u001b[0;34m\u001b[0m\u001b[0;34m\u001b[0m\u001b[0m\n",
      "\u001b[0;32m~/.pyenv/versions/3.9.4/lib/python3.9/html/parser.py\u001b[0m in \u001b[0;36mparse_endtag\u001b[0;34m(self, i)\u001b[0m\n\u001b[1;32m    418\u001b[0m                 \u001b[0;32mreturn\u001b[0m \u001b[0mgtpos\u001b[0m\u001b[0;34m\u001b[0m\u001b[0;34m\u001b[0m\u001b[0m\n\u001b[1;32m    419\u001b[0m \u001b[0;34m\u001b[0m\u001b[0m\n\u001b[0;32m--> 420\u001b[0;31m         \u001b[0mself\u001b[0m\u001b[0;34m.\u001b[0m\u001b[0mhandle_endtag\u001b[0m\u001b[0;34m(\u001b[0m\u001b[0melem\u001b[0m\u001b[0;34m)\u001b[0m\u001b[0;34m\u001b[0m\u001b[0;34m\u001b[0m\u001b[0m\n\u001b[0m\u001b[1;32m    421\u001b[0m         \u001b[0mself\u001b[0m\u001b[0;34m.\u001b[0m\u001b[0mclear_cdata_mode\u001b[0m\u001b[0;34m(\u001b[0m\u001b[0;34m)\u001b[0m\u001b[0;34m\u001b[0m\u001b[0;34m\u001b[0m\u001b[0m\n\u001b[1;32m    422\u001b[0m         \u001b[0;32mreturn\u001b[0m \u001b[0mgtpos\u001b[0m\u001b[0;34m\u001b[0m\u001b[0;34m\u001b[0m\u001b[0m\n",
      "\u001b[0;32m~/.pyenv/versions/3.9.4/envs/SalesPricePredict/lib/python3.9/site-packages/bs4/builder/_htmlparser.py\u001b[0m in \u001b[0;36mhandle_endtag\u001b[0;34m(self, name, check_already_closed)\u001b[0m\n\u001b[1;32m    185\u001b[0m             \u001b[0mself\u001b[0m\u001b[0;34m.\u001b[0m\u001b[0malready_closed_empty_element\u001b[0m\u001b[0;34m.\u001b[0m\u001b[0mremove\u001b[0m\u001b[0;34m(\u001b[0m\u001b[0mname\u001b[0m\u001b[0;34m)\u001b[0m\u001b[0;34m\u001b[0m\u001b[0;34m\u001b[0m\u001b[0m\n\u001b[1;32m    186\u001b[0m         \u001b[0;32melse\u001b[0m\u001b[0;34m:\u001b[0m\u001b[0;34m\u001b[0m\u001b[0;34m\u001b[0m\u001b[0m\n\u001b[0;32m--> 187\u001b[0;31m             \u001b[0mself\u001b[0m\u001b[0;34m.\u001b[0m\u001b[0msoup\u001b[0m\u001b[0;34m.\u001b[0m\u001b[0mhandle_endtag\u001b[0m\u001b[0;34m(\u001b[0m\u001b[0mname\u001b[0m\u001b[0;34m)\u001b[0m\u001b[0;34m\u001b[0m\u001b[0;34m\u001b[0m\u001b[0m\n\u001b[0m\u001b[1;32m    188\u001b[0m \u001b[0;34m\u001b[0m\u001b[0m\n\u001b[1;32m    189\u001b[0m     \u001b[0;32mdef\u001b[0m \u001b[0mhandle_data\u001b[0m\u001b[0;34m(\u001b[0m\u001b[0mself\u001b[0m\u001b[0;34m,\u001b[0m \u001b[0mdata\u001b[0m\u001b[0;34m)\u001b[0m\u001b[0;34m:\u001b[0m\u001b[0;34m\u001b[0m\u001b[0;34m\u001b[0m\u001b[0m\n",
      "\u001b[0;32m~/.pyenv/versions/3.9.4/envs/SalesPricePredict/lib/python3.9/site-packages/bs4/__init__.py\u001b[0m in \u001b[0;36mhandle_endtag\u001b[0;34m(self, name, nsprefix)\u001b[0m\n\u001b[1;32m    735\u001b[0m         \u001b[0;31m#print(\"End tag: \" + name)\u001b[0m\u001b[0;34m\u001b[0m\u001b[0;34m\u001b[0m\u001b[0;34m\u001b[0m\u001b[0m\n\u001b[1;32m    736\u001b[0m         \u001b[0mself\u001b[0m\u001b[0;34m.\u001b[0m\u001b[0mendData\u001b[0m\u001b[0;34m(\u001b[0m\u001b[0;34m)\u001b[0m\u001b[0;34m\u001b[0m\u001b[0;34m\u001b[0m\u001b[0m\n\u001b[0;32m--> 737\u001b[0;31m         \u001b[0mself\u001b[0m\u001b[0;34m.\u001b[0m\u001b[0m_popToTag\u001b[0m\u001b[0;34m(\u001b[0m\u001b[0mname\u001b[0m\u001b[0;34m,\u001b[0m \u001b[0mnsprefix\u001b[0m\u001b[0;34m)\u001b[0m\u001b[0;34m\u001b[0m\u001b[0;34m\u001b[0m\u001b[0m\n\u001b[0m\u001b[1;32m    738\u001b[0m \u001b[0;34m\u001b[0m\u001b[0m\n\u001b[1;32m    739\u001b[0m     \u001b[0;32mdef\u001b[0m \u001b[0mhandle_data\u001b[0m\u001b[0;34m(\u001b[0m\u001b[0mself\u001b[0m\u001b[0;34m,\u001b[0m \u001b[0mdata\u001b[0m\u001b[0;34m)\u001b[0m\u001b[0;34m:\u001b[0m\u001b[0;34m\u001b[0m\u001b[0;34m\u001b[0m\u001b[0m\n",
      "\u001b[0;32m~/.pyenv/versions/3.9.4/envs/SalesPricePredict/lib/python3.9/site-packages/bs4/__init__.py\u001b[0m in \u001b[0;36m_popToTag\u001b[0;34m(self, name, nsprefix, inclusivePop)\u001b[0m\n\u001b[1;32m    677\u001b[0m \u001b[0;34m\u001b[0m\u001b[0m\n\u001b[1;32m    678\u001b[0m         \u001b[0mstack_size\u001b[0m \u001b[0;34m=\u001b[0m \u001b[0mlen\u001b[0m\u001b[0;34m(\u001b[0m\u001b[0mself\u001b[0m\u001b[0;34m.\u001b[0m\u001b[0mtagStack\u001b[0m\u001b[0;34m)\u001b[0m\u001b[0;34m\u001b[0m\u001b[0;34m\u001b[0m\u001b[0m\n\u001b[0;32m--> 679\u001b[0;31m         \u001b[0;32mfor\u001b[0m \u001b[0mi\u001b[0m \u001b[0;32min\u001b[0m \u001b[0mrange\u001b[0m\u001b[0;34m(\u001b[0m\u001b[0mstack_size\u001b[0m \u001b[0;34m-\u001b[0m \u001b[0;36m1\u001b[0m\u001b[0;34m,\u001b[0m \u001b[0;36m0\u001b[0m\u001b[0;34m,\u001b[0m \u001b[0;34m-\u001b[0m\u001b[0;36m1\u001b[0m\u001b[0;34m)\u001b[0m\u001b[0;34m:\u001b[0m\u001b[0;34m\u001b[0m\u001b[0;34m\u001b[0m\u001b[0m\n\u001b[0m\u001b[1;32m    680\u001b[0m             \u001b[0;32mif\u001b[0m \u001b[0;32mnot\u001b[0m \u001b[0mself\u001b[0m\u001b[0;34m.\u001b[0m\u001b[0mopen_tag_counter\u001b[0m\u001b[0;34m.\u001b[0m\u001b[0mget\u001b[0m\u001b[0;34m(\u001b[0m\u001b[0mname\u001b[0m\u001b[0;34m)\u001b[0m\u001b[0;34m:\u001b[0m\u001b[0;34m\u001b[0m\u001b[0;34m\u001b[0m\u001b[0m\n\u001b[1;32m    681\u001b[0m                 \u001b[0;32mbreak\u001b[0m\u001b[0;34m\u001b[0m\u001b[0;34m\u001b[0m\u001b[0m\n",
      "\u001b[0;31mKeyboardInterrupt\u001b[0m: "
     ]
    }
   ],
   "source": [
    "# Empty DataFrame\n",
    "df_compositions = pd.DataFrame()\n",
    "\n",
    "# Unique columns for all products\n",
    "aux = []\n",
    "\n",
    "# DataFrame pattern\n",
    "df_pattern = pd.DataFrame(columns = ['Art. No.', \n",
    "                                     'Composition', \n",
    "                                     'Fit', \n",
    "                                     'Product safety',\n",
    "                                     'Size', \n",
    "                                     'More sustainable materials'])\n",
    "\n",
    "for i in range(len(data)):\n",
    "    # API request \n",
    "    url_products = 'https://www2.hm.com/en_us/productpage.' + data.loc[i, 'product_id'] + '.html'\n",
    "    page_product = requests.get(url_products, headers = headers)\n",
    "    #print('Product: {}'.format(url_products))\n",
    "        \n",
    "    # Beautiful Soup Object\n",
    "    soup = BeautifulSoup(page_product.text, 'html.parser')\n",
    "\n",
    "    # product_color\n",
    "    product_list = soup.find_all('a', class_ = 'filter-option miniature active') + soup.find_all('a', class_ = 'filter-option miniature')\n",
    "    color_name = [p.get('data-color') for p in product_list]\n",
    "\n",
    "    #product_id\n",
    "    product_id = [p.get('data-articlecode') for p in product_list]\n",
    "    df_color = pd.DataFrame([product_id, color_name]).T\n",
    "    df_color.columns = ['product_id', 'color_name']\n",
    "        \n",
    "    for j in range(len(df_color)):\n",
    "        # API request \n",
    "        url_color = 'https://www2.hm.com/en_us/productpage.' + df_color.loc[j, 'product_id'] + '.html'\n",
    "        #print('Color: {}'.format(url_color))\n",
    "        page_product_color = requests.get(url_color, headers = headers)\n",
    "                \n",
    "        # Beautiful Soup Object\n",
    "        soup = BeautifulSoup(page_product_color.text, 'html.parser')\n",
    "\n",
    "        # product_name\n",
    "        product_name = soup.find_all('h1', class_ = 'primary product-item-headline')\n",
    "        if len(product_name) > 0:\n",
    "            product_name = product_name[0].get_text()\n",
    "                \n",
    "        # product_price\n",
    "        product_price = soup.find_all('div', class_ = 'primary-row product-item-price')\n",
    "        if len(product_price) > 0:\n",
    "            product_price = re.findall(r'\\d+\\.?\\d+', product_price[0].get_text())[0]\n",
    "        \n",
    "        # product_composition\n",
    "        product_composition_list = soup.find_all('div', class_ = 'pdp-description-list-item')\n",
    "        if len(product_composition_list) > 0:\n",
    "            product_composition = [list(filter(None, p.get_text().split('\\n'))) for p in product_composition_list]\n",
    "        \n",
    "            # Rename DataFrame\n",
    "            df_composition = pd.DataFrame(product_composition).T\n",
    "            df_composition.columns = df_composition.iloc[0]\n",
    "\n",
    "            # Delete first row\n",
    "            df_composition = df_composition.iloc[1:].fillna(method = 'ffill')\n",
    "\n",
    "            # Remove Pocket lining, Shell and Lining\n",
    "            df_composition['Composition'] = df_composition['Composition'].replace('Pocket lining: ', '', regex = True)\n",
    "            df_composition['Composition'] = df_composition['Composition'].replace('Shell: ', '', regex = True)\n",
    "            df_composition['Composition'] = df_composition['Composition'].str.replace('Lining: ', '', regex = True)\n",
    "\n",
    "            # Garantee the same number of columns\n",
    "            df_composition = pd.concat([df_pattern, df_composition], axis = 0)\n",
    "\n",
    "            # Rename columns\n",
    "            df_composition.columns = ['product_id', 'composition', 'fit', 'product_safety', 'size', 'more_sust_materials']\n",
    "            df_composition['product_name'] = product_name\n",
    "            df_composition['product_price'] = product_price\n",
    "\n",
    "        # Keep new columns if it show up\n",
    "        aux = aux + df_composition.columns.tolist()\n",
    "\n",
    "        # Merge Composition + color\n",
    "        df_composition = pd.merge(df_composition, df_color, how = 'left', on = 'product_id')\n",
    "\n",
    "        # All products\n",
    "        df_compositions = pd.concat([df_compositions, df_composition], axis = 0)\n",
    "\n",
    "# Create Style Code and Color Code\n",
    "df_compositions['style_id'] = df_compositions['product_id'].apply(lambda x: x[:-3])\n",
    "df_compositions['color_id'] = df_compositions['product_id'].apply(lambda x: x[-3:]) \n",
    "\n",
    "# Scrapy datetime\n",
    "df_compositions['scrapy_datetime'] = datetime.now().strftime('%Y-%m-%d %H:%M:%S')"
   ]
  },
  {
   "cell_type": "code",
   "execution_count": null,
   "id": "90978a2a-4e02-4ca8-ae2a-4579dc6141e4",
   "metadata": {},
   "outputs": [],
   "source": [
    "df_compositions.isna().sum()"
   ]
  },
  {
   "cell_type": "code",
   "execution_count": null,
   "id": "1fa5e2d8-7ddc-45d3-b7b9-8cd99bc35039",
   "metadata": {},
   "outputs": [],
   "source": [
    "df_compositions.head()"
   ]
  },
  {
   "cell_type": "markdown",
   "id": "20b6befd-e238-4c1b-a05b-e3a505c4cf86",
   "metadata": {
    "tags": []
   },
   "source": [
    "### **3.0 Data cleaning**"
   ]
  },
  {
   "cell_type": "code",
   "execution_count": null,
   "id": "b25ddd1a-fc34-4614-b02e-10552bd31f3d",
   "metadata": {},
   "outputs": [],
   "source": [
    "df_data = df_compositions.copy()\n",
    "\n",
    "# product_name\n",
    "df_data['product_name'] = df_data['product_name'].str.replace('\\n', '')\n",
    "df_data['product_name'] = df_data['product_name'].str.replace('\\t', '')\n",
    "df_data['product_name'] = df_data['product_name'].str.replace('/', '_')\n",
    "df_data['product_name'] = df_data['product_name'].str.replace('  ', '')\n",
    "df_data['product_name'] = df_data['product_name'].str.replace(' ', '_').str.lower()\n",
    "\n",
    "# product_price\n",
    "df_data['product_price'] = df_data['product_price'].astype(float)\n",
    "\n",
    "# color_name\n",
    "df_data = df_data.dropna(subset = ['color_name'])\n",
    "df_data = df_data.drop(columns = ['color_name_x', 'color_name_y'])\n",
    "df_data['color_name'] = df_data['color_name'].str.replace(' ', '_').str.lower()\n",
    "\n",
    "# fit\n",
    "df_data['fit'] = df_data['fit'].str.replace(' ', '_').str.lower()\n",
    "\n",
    "# Size --->>> size_model and size_number\n",
    "# size_model\n",
    "df_data['size_model'] = df_data['size'].apply(lambda x: re.search('\\d{3}cm', x).group(0) if pd.notnull(x) else x)\n",
    "df_data['size_model'] = df_data['size_model'].apply(lambda x: re.search('\\d+', x).group(0) if pd.notnull(x) else x)\n",
    "\n",
    "# size_number\n",
    "df_data['size_number'] = df_data['size'].str.extract('(\\d+/\\\\d+)')\n",
    "\n",
    "# ============================== Composition ============================== #\n",
    "# Break composition by comma and create a new DataSet\n",
    "df1 = df_data['composition'].str.split(',', expand = True).reset_index(drop = True)\n",
    "\n",
    "# Create a reference DataSet - Columns --> cotton | polyester | elastane | elasterell\n",
    "df_ref = pd.DataFrame(index = np.arange(len(df_data)), columns = ['cotton', 'polyester', 'elastane', 'elasterell'])\n",
    "\n",
    "# Cotton\n",
    "df_cotton_0 = df1.loc[df1[0].str.contains('Cotton', na = True), 0]\n",
    "df_cotton_0.name = 'cotton'\n",
    "\n",
    "df_cotton_1 = df1.loc[df1[1].str.contains('Cotton', na = True), 1]\n",
    "df_cotton_1.name = 'cotton'\n",
    "\n",
    "df_cotton = df_cotton_0.combine_first(df_cotton_1)\n",
    "\n",
    "df_ref = pd.concat([df_ref, df_cotton], axis = 1)\n",
    "df_ref = df_ref.iloc[:, ~df_ref.columns.duplicated(keep = 'last')]\n",
    "\n",
    "# Polyester\n",
    "df_polyester_0 = df1.loc[df1[0].str.contains('Polyester', na = True), 0]\n",
    "df_polyester_0.name = 'polyester'\n",
    "\n",
    "df_polyester_1 = df1.loc[df1[1].str.contains('Polyester', na = True), 1]\n",
    "df_polyester_1.name = 'polyester'\n",
    "\n",
    "df_polyester = df_polyester_0.combine_first(df_polyester_1)\n",
    "\n",
    "df_ref = pd.concat([df_ref, df_polyester], axis = 1)\n",
    "df_ref = df_ref.iloc[:, ~df_ref.columns.duplicated(keep = 'last')]\n",
    "\n",
    "# Elastane \n",
    "df_elastane_1 = df1.loc[df1[1].str.contains('Elastane', na = True), 1]\n",
    "df_elastane_1.name = 'elastane'\n",
    "\n",
    "df_elastane_2 = df1.loc[df1[2].str.contains('Elastane', na = True), 2]\n",
    "df_elastane_2.name = 'elastane'\n",
    "\n",
    "df_elastane_3 = df1.loc[df1[3].str.contains('Elastane', na = True), 3]\n",
    "df_elastane_3.name = 'elastane'\n",
    "\n",
    "df_elastane_c2 = df_elastane_1.combine_first(df_elastane_2)\n",
    "df_elastane = df_elastane_c2.combine_first(df_elastane_3)\n",
    "\n",
    "df_ref = pd.concat([df_ref, df_elastane], axis = 1)\n",
    "df_ref = df_ref.iloc[:, ~df_ref.columns.duplicated(keep = 'last')]\n",
    "\n",
    "# Elasterell\n",
    "df_elasterell = df1.loc[df1[1].str.contains('Elasterell', na = True), 1]\n",
    "df_elasterell.name = 'elasterell'\n",
    "\n",
    "df_ref = pd.concat([df_ref, df_elasterell], axis = 1)\n",
    "df_ref = df_ref.iloc[:, ~df_ref.columns.duplicated(keep = 'last')]\n",
    "# ================================================================================ #\n",
    "\n",
    "# Join of product ID\n",
    "df_aux = pd.concat([df_data['product_id'].reset_index(drop = True), df_ref], axis = 1)\n",
    "\n",
    "# Format composition data\n",
    "df_aux['cotton']     = df_aux['cotton'].apply(lambda x: int(re.search('\\d+', x).group(0))/100 if pd.notnull(x) else x)\n",
    "df_aux['polyester']  = df_aux['polyester'].apply(lambda x: int(re.search('\\d+', x).group(0))/100 if pd.notnull(x) else x)\n",
    "df_aux['elastane']   = df_aux['elastane'].apply(lambda x: int(re.search('\\d+', x).group(0))/100 if pd.notnull(x) else x)\n",
    "df_aux['elasterell'] = df_aux['elasterell'].apply(lambda x: int(re.search('\\d+', x).group(0))/100 if pd.notnull(x) else x)\n",
    "\n",
    "# Combine product IDs and replace NAs\n",
    "df_aux = df_aux.groupby('product_id').max().reset_index().fillna(0)\n",
    "\n",
    "# ============================== Join with Data Raw ============================== #\n",
    "df_data = pd.merge(df_data, df_aux, on = 'product_id', how = 'left')\n",
    "\n",
    "# Drop unused columns\n",
    "df_data = df_data.drop(columns = ['composition', 'product_safety', 'size', 'more_sust_materials'], axis = 1)\n",
    "\n",
    "# Drop duplicates\n",
    "df_data = df_data.drop_duplicates().reset_index(drop = True)"
   ]
  },
  {
   "cell_type": "code",
   "execution_count": null,
   "id": "5a91bc4b-bbba-4c7b-bd09-4b71527ef9b1",
   "metadata": {},
   "outputs": [],
   "source": [
    "df_data.head()"
   ]
  },
  {
   "cell_type": "code",
   "execution_count": null,
   "id": "e992f138-1a5a-4abf-9d19-1139e330f52f",
   "metadata": {},
   "outputs": [],
   "source": [
    "len(df_compositions['product_id'].unique())"
   ]
  },
  {
   "cell_type": "code",
   "execution_count": null,
   "id": "3400b899-a28b-4354-ae5b-90bf557e1920",
   "metadata": {},
   "outputs": [],
   "source": [
    "len(df_data['product_id'].unique())"
   ]
  },
  {
   "cell_type": "markdown",
   "id": "bfc17eb4-7737-44a2-aa58-84021f205a5b",
   "metadata": {},
   "source": [
    "### **4.0 ETL Planning**"
   ]
  },
  {
   "cell_type": "markdown",
   "id": "419ac0cd-c233-49f1-9367-832e2e13f73e",
   "metadata": {},
   "source": [
    "#### **4.1 ETL - Minimum Requirements**"
   ]
  },
  {
   "cell_type": "markdown",
   "id": "abe4ad4c-844d-4e59-81a5-97b74e56bc68",
   "metadata": {},
   "source": [
    "1. Design of the ETL architecture\n",
    "2. Job orchestration\n",
    "3. Log files\n",
    "4. Documentation (scheduling table)"
   ]
  },
  {
   "cell_type": "markdown",
   "id": "dfb7b600-c629-4026-a11c-7567169ed8f1",
   "metadata": {},
   "source": [
    "##### **4.1.1 Design of the ETL architecture**"
   ]
  },
  {
   "cell_type": "markdown",
   "id": "a76b7bae-0529-4961-bac0-03328156f305",
   "metadata": {},
   "source": [
    "- Data sources, intermediate files, and final output\n",
    "- Jobs (source and destination)\n",
    "- Jobs dependencies"
   ]
  },
  {
   "cell_type": "markdown",
   "id": "596c615d-09e0-41af-81b2-1d2942434bff",
   "metadata": {},
   "source": [
    "DAG (Directly Acyclic Graph)\n",
    "\n",
    "JOB01 --> JOB02 --> JOB03 --> JOB04"
   ]
  },
  {
   "cell_type": "markdown",
   "id": "285c8828-b113-4b73-9bf4-c3372574e0f9",
   "metadata": {},
   "source": [
    "##### **4.1.2 Job orchestration**"
   ]
  },
  {
   "cell_type": "markdown",
   "id": "97584495-0de5-4178-ae10-7aa774ae8bfc",
   "metadata": {},
   "source": [
    "- Jobs automation tool\n",
    "- Jobs dependencies\n",
    "- Automatic restart on failure"
   ]
  },
  {
   "cell_type": "markdown",
   "id": "725fed34-9ff9-4261-8d1e-2a547246be31",
   "metadata": {},
   "source": [
    "##### **4.1.3 Log files**"
   ]
  },
  {
   "cell_type": "markdown",
   "id": "a78975a9-6f28-40f4-a481-92a146ee1cd4",
   "metadata": {},
   "source": [
    "- Tool for generating and storing logs\n",
    "- Tool for writing and reading logs"
   ]
  },
  {
   "cell_type": "markdown",
   "id": "13d6fe0a-48ca-49d1-9496-6b6d6504cc64",
   "metadata": {},
   "source": [
    "##### **4.1.4 Documentation (scheduling table)**"
   ]
  },
  {
   "cell_type": "markdown",
   "id": "e9861b9b-f7dc-4681-879a-dcae7e3bcddb",
   "metadata": {},
   "source": [
    "- Job Dependency and Scheduling Table"
   ]
  },
  {
   "cell_type": "code",
   "execution_count": null,
   "id": "b8525654-bcd4-4e67-8246-7c6cd7fcbdfc",
   "metadata": {},
   "outputs": [],
   "source": []
  },
  {
   "cell_type": "code",
   "execution_count": null,
   "id": "046823ef-4990-4dc7-81c4-1cd02c50baf4",
   "metadata": {},
   "outputs": [],
   "source": []
  }
 ],
 "metadata": {
  "kernelspec": {
   "display_name": "Python 3 (ipykernel)",
   "language": "python",
   "name": "python3"
  },
  "language_info": {
   "codemirror_mode": {
    "name": "ipython",
    "version": 3
   },
   "file_extension": ".py",
   "mimetype": "text/x-python",
   "name": "python",
   "nbconvert_exporter": "python",
   "pygments_lexer": "ipython3",
   "version": "3.9.4"
  },
  "widgets": {
   "application/vnd.jupyter.widget-state+json": {
    "state": {},
    "version_major": 2,
    "version_minor": 0
   }
  }
 },
 "nbformat": 4,
 "nbformat_minor": 5
}
