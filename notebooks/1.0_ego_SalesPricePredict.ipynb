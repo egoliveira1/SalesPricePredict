{
 "cells": [
  {
   "cell_type": "code",
   "execution_count": 27,
   "id": "ae6d0db0-4c7b-4ded-b92a-9319dde7ad8d",
   "metadata": {},
   "outputs": [],
   "source": [
    "import requests\n",
    "from datetime import datetime\n",
    "import pandas as pd\n",
    "import numpy as np\n",
    "from bs4 import BeautifulSoup"
   ]
  },
  {
   "cell_type": "code",
   "execution_count": 2,
   "id": "464658ea-8022-4e8d-bdf2-cbb70d71c719",
   "metadata": {},
   "outputs": [],
   "source": [
    "url='https://www2.hm.com/en_us/men/products/jeans.html'\n",
    "headers={'User-Agent': 'Mozilla/5.0 (Macintosh; Intel Mac OS X 10_14_5) AppleWebKit/605.1.15 (KHTML, like Gecko) Version/12.1.1 Safari/605.1.15'}\n",
    "page=requests.get(url, headers = headers)"
   ]
  },
  {
   "cell_type": "code",
   "execution_count": 3,
   "id": "eb9e9653-14ed-498d-a308-fe3484f66200",
   "metadata": {},
   "outputs": [],
   "source": [
    "soup=BeautifulSoup(page.text, 'html.parser')"
   ]
  },
  {
   "cell_type": "code",
   "execution_count": 4,
   "id": "c36e9cd2-a1ba-43e4-9358-327a1456bd25",
   "metadata": {},
   "outputs": [],
   "source": [
    "products=soup.find('ul', class_='products-listing small')"
   ]
  },
  {
   "cell_type": "code",
   "execution_count": 6,
   "id": "e19e4fc9-151a-4cb5-9891-63ba2ccc6278",
   "metadata": {},
   "outputs": [],
   "source": [
    "products_list_article=products.find_all('article', class_='hm-product-item')\n",
    "\n",
    "#product_id\n",
    "product_id=[p.get('data-articlecode') for p in products_list_article]\n",
    "\n",
    "#product_category\n",
    "product_category=[p.get('data-category') for p in products_list_article]"
   ]
  },
  {
   "cell_type": "code",
   "execution_count": 11,
   "id": "faa5e5d1-c05b-4507-816e-eb8f69ccc818",
   "metadata": {},
   "outputs": [],
   "source": [
    "#product_name\n",
    "products_list_link=products.find_all('a', class_='link')\n",
    "product_category=[p.get_text() for p in products_list_link]"
   ]
  },
  {
   "cell_type": "code",
   "execution_count": 20,
   "id": "130e96a9-2e4b-49bd-be3a-5e5440950167",
   "metadata": {},
   "outputs": [],
   "source": [
    "#product_price\n",
    "product_list_spam=products.find_all('span', class_='price regular')\n",
    "product_price=[p.get_text() for p in product_list_spam]"
   ]
  },
  {
   "cell_type": "code",
   "execution_count": 24,
   "id": "04814c5e-a253-45ac-9522-6a4d729c1e51",
   "metadata": {},
   "outputs": [],
   "source": [
    "#product_color\n"
   ]
  },
  {
   "cell_type": "code",
   "execution_count": 25,
   "id": "7511c0b9-d88a-485b-8c80-da052af23ba0",
   "metadata": {},
   "outputs": [],
   "source": [
    "#product_composition\n"
   ]
  },
  {
   "cell_type": "code",
   "execution_count": 29,
   "id": "596edbc2-0ba0-4d9f-bb7f-2e9c363a8f56",
   "metadata": {},
   "outputs": [],
   "source": [
    "data=pd.DataFrame([product_id, product_category, product_name, product_price]).T\n",
    "data.columns=['product_id', 'product_category', 'product_name', 'product_price']"
   ]
  },
  {
   "cell_type": "code",
   "execution_count": 33,
   "id": "021111d6-25a7-4642-a13a-e2e7e8443f45",
   "metadata": {},
   "outputs": [],
   "source": [
    "#scrapy datetime\n",
    "data['scrapy_datetime']=datetime.now().strftime('%Y-%m-%d- %H%M%M')"
   ]
  },
  {
   "cell_type": "code",
   "execution_count": 34,
   "id": "032c896c-495b-4bc3-9ecd-c8e1bdbe2c37",
   "metadata": {},
   "outputs": [
    {
     "data": {
      "text/html": [
       "<div>\n",
       "<style scoped>\n",
       "    .dataframe tbody tr th:only-of-type {\n",
       "        vertical-align: middle;\n",
       "    }\n",
       "\n",
       "    .dataframe tbody tr th {\n",
       "        vertical-align: top;\n",
       "    }\n",
       "\n",
       "    .dataframe thead th {\n",
       "        text-align: right;\n",
       "    }\n",
       "</style>\n",
       "<table border=\"1\" class=\"dataframe\">\n",
       "  <thead>\n",
       "    <tr style=\"text-align: right;\">\n",
       "      <th></th>\n",
       "      <th>product_id</th>\n",
       "      <th>product_category</th>\n",
       "      <th>product_name</th>\n",
       "      <th>product_price</th>\n",
       "      <th>scrapy_datetime</th>\n",
       "    </tr>\n",
       "  </thead>\n",
       "  <tbody>\n",
       "    <tr>\n",
       "      <th>0</th>\n",
       "      <td>0985159001</td>\n",
       "      <td>men_jeans_skinny</td>\n",
       "      <td>Skinny Jeans</td>\n",
       "      <td>$ 19.99</td>\n",
       "      <td>2021-09-24- 132828</td>\n",
       "    </tr>\n",
       "    <tr>\n",
       "      <th>1</th>\n",
       "      <td>0985197001</td>\n",
       "      <td>men_jeans_slim</td>\n",
       "      <td>Slim Jeans</td>\n",
       "      <td>$ 19.99</td>\n",
       "      <td>2021-09-24- 132828</td>\n",
       "    </tr>\n",
       "    <tr>\n",
       "      <th>2</th>\n",
       "      <td>0690449051</td>\n",
       "      <td>men_jeans_ripped</td>\n",
       "      <td>Skinny Jeans</td>\n",
       "      <td>$ 39.99</td>\n",
       "      <td>2021-09-24- 132828</td>\n",
       "    </tr>\n",
       "    <tr>\n",
       "      <th>3</th>\n",
       "      <td>0690449022</td>\n",
       "      <td>men_jeans_ripped</td>\n",
       "      <td>Skinny Jeans</td>\n",
       "      <td>$ 39.99</td>\n",
       "      <td>2021-09-24- 132828</td>\n",
       "    </tr>\n",
       "    <tr>\n",
       "      <th>4</th>\n",
       "      <td>0985197003</td>\n",
       "      <td>men_jeans_slim</td>\n",
       "      <td>Slim Jeans</td>\n",
       "      <td>$ 19.99</td>\n",
       "      <td>2021-09-24- 132828</td>\n",
       "    </tr>\n",
       "  </tbody>\n",
       "</table>\n",
       "</div>"
      ],
      "text/plain": [
       "   product_id  product_category  product_name product_price  \\\n",
       "0  0985159001  men_jeans_skinny  Skinny Jeans       $ 19.99   \n",
       "1  0985197001    men_jeans_slim    Slim Jeans       $ 19.99   \n",
       "2  0690449051  men_jeans_ripped  Skinny Jeans       $ 39.99   \n",
       "3  0690449022  men_jeans_ripped  Skinny Jeans       $ 39.99   \n",
       "4  0985197003    men_jeans_slim    Slim Jeans       $ 19.99   \n",
       "\n",
       "      scrapy_datetime  \n",
       "0  2021-09-24- 132828  \n",
       "1  2021-09-24- 132828  \n",
       "2  2021-09-24- 132828  \n",
       "3  2021-09-24- 132828  \n",
       "4  2021-09-24- 132828  "
      ]
     },
     "execution_count": 34,
     "metadata": {},
     "output_type": "execute_result"
    }
   ],
   "source": [
    "data.head()"
   ]
  },
  {
   "cell_type": "code",
   "execution_count": null,
   "id": "70643134-668a-40a8-a284-ba72f80e67a0",
   "metadata": {},
   "outputs": [],
   "source": []
  }
 ],
 "metadata": {
  "kernelspec": {
   "display_name": "Python 3 (ipykernel)",
   "language": "python",
   "name": "python3"
  },
  "language_info": {
   "codemirror_mode": {
    "name": "ipython",
    "version": 3
   },
   "file_extension": ".py",
   "mimetype": "text/x-python",
   "name": "python",
   "nbconvert_exporter": "python",
   "pygments_lexer": "ipython3",
   "version": "3.8.12"
  },
  "widgets": {
   "application/vnd.jupyter.widget-state+json": {
    "state": {},
    "version_major": 2,
    "version_minor": 0
   }
  }
 },
 "nbformat": 4,
 "nbformat_minor": 5
}
