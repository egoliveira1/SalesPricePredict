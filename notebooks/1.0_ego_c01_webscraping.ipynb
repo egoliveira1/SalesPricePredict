{
 "cells": [
  {
   "cell_type": "markdown",
   "id": "9aa58722-a07e-4355-a91c-8b680f561006",
   "metadata": {},
   "source": [
    "## **IMPORTS**"
   ]
  },
  {
   "cell_type": "code",
   "execution_count": 2,
   "id": "ae6d0db0-4c7b-4ded-b92a-9319dde7ad8d",
   "metadata": {},
   "outputs": [],
   "source": [
    "import requests\n",
    "\n",
    "import pandas as pd\n",
    "import numpy  as np\n",
    "\n",
    "from datetime import datetime\n",
    "from bs4      import BeautifulSoup"
   ]
  },
  {
   "cell_type": "markdown",
   "id": "6a0b3d2f-2a26-4802-b237-3855ad1092dc",
   "metadata": {},
   "source": [
    "## **WEBSCRAPING**"
   ]
  },
  {
   "cell_type": "markdown",
   "id": "4006033b-ad45-489d-bb1c-bcafe765144e",
   "metadata": {
    "tags": []
   },
   "source": [
    "### **Extracting the showroom**"
   ]
  },
  {
   "cell_type": "code",
   "execution_count": 3,
   "id": "ef1ffb59-3051-4494-9f03-ac85ef7c86e5",
   "metadata": {},
   "outputs": [
    {
     "data": {
      "text/plain": [
       "'https://www2.hm.com/en_us/men/products/jeans.html?page-size=108'"
      ]
     },
     "execution_count": 3,
     "metadata": {},
     "output_type": "execute_result"
    }
   ],
   "source": [
    "# Pagination\n",
    "url = 'https://www2.hm.com/en_us/men/products/jeans.html'\n",
    "headers = {'User-Agent': 'Mozilla/5.0 (Macintosh; Intel Mac OS X 10_14_5) AppleWebKit/605.1.15 (KHTML, like Gecko) Version/12.1.1 Safari/605.1.15'}\n",
    "pagination_page = requests.get(url, headers = headers)\n",
    "\n",
    "soup = BeautifulSoup(pagination_page.text, 'html.parser')\n",
    "\n",
    "total_item = soup.find_all('h2', class_='load-more-heading')[0].get('data-total')\n",
    "itens_per_page = 36\n",
    "page_number = np.ceil(int(total_item) / itens_per_page)\n",
    "url_pagination = url + '?page-size=' + str(int(page_number * itens_per_page))\n",
    "url_pagination"
   ]
  },
  {
   "cell_type": "code",
   "execution_count": 4,
   "id": "464658ea-8022-4e8d-bdf2-cbb70d71c719",
   "metadata": {},
   "outputs": [],
   "source": [
    "main_page = requests.get(url_pagination, headers = headers)\n",
    "soup = BeautifulSoup(main_page.text, 'html.parser')\n",
    "products = soup.find('ul', class_='products-listing small')"
   ]
  },
  {
   "cell_type": "code",
   "execution_count": 5,
   "id": "e19e4fc9-151a-4cb5-9891-63ba2ccc6278",
   "metadata": {},
   "outputs": [],
   "source": [
    "products_list_article = products.find_all('article', class_ = 'hm-product-item')\n",
    "\n",
    "#product_id\n",
    "product_id = [p.get('data-articlecode') for p in products_list_article]\n",
    "\n",
    "#product_category\n",
    "product_category = [p.get('data-category') for p in products_list_article]"
   ]
  },
  {
   "cell_type": "code",
   "execution_count": 6,
   "id": "faa5e5d1-c05b-4507-816e-eb8f69ccc818",
   "metadata": {},
   "outputs": [],
   "source": [
    "#product_name\n",
    "products_list_link = products.find_all('a', class_ = 'link')\n",
    "product_name = [p.get_text() for p in products_list_link]"
   ]
  },
  {
   "cell_type": "code",
   "execution_count": 7,
   "id": "130e96a9-2e4b-49bd-be3a-5e5440950167",
   "metadata": {},
   "outputs": [],
   "source": [
    "#product_price\n",
    "product_list_span = products.find_all('span', class_ = 'price regular')\n",
    "product_price = [p.get_text() for p in product_list_span]"
   ]
  },
  {
   "cell_type": "code",
   "execution_count": 8,
   "id": "596edbc2-0ba0-4d9f-bb7f-2e9c363a8f56",
   "metadata": {},
   "outputs": [],
   "source": [
    "data = pd.DataFrame([product_id, product_category, product_name, product_price]).T\n",
    "data.columns = ['product_id', 'product_category', 'product_name', 'product_price']"
   ]
  },
  {
   "cell_type": "code",
   "execution_count": 9,
   "id": "021111d6-25a7-4642-a13a-e2e7e8443f45",
   "metadata": {},
   "outputs": [],
   "source": [
    "#scrapy datetime\n",
    "data['scrapy_datetime'] = datetime.now().strftime('%Y-%m-%d %H:%M:%S')"
   ]
  },
  {
   "cell_type": "code",
   "execution_count": 10,
   "id": "032c896c-495b-4bc3-9ecd-c8e1bdbe2c37",
   "metadata": {},
   "outputs": [],
   "source": [
    "data['style_code'] = data['product_id'].apply(lambda x: x[:-3])\n",
    "data['color_id'] = data['product_id'].apply(lambda x: x[-3:]) "
   ]
  },
  {
   "cell_type": "markdown",
   "id": "d39bc9c2-083e-4763-b2b6-b6715c0dacde",
   "metadata": {},
   "source": [
    "### **Extracting product details**"
   ]
  },
  {
   "cell_type": "code",
   "execution_count": 11,
   "id": "2e940577-a423-4e21-8d1d-8f1d7aa94087",
   "metadata": {},
   "outputs": [],
   "source": [
    "headers = {'User-Agent': 'Mozilla/5.0 (Macintosh; Intel Mac OS X 10_14_5) AppleWebKit/605.1.15 (KHTML, like Gecko) Version/12.1.1 Safari/605.1.15'}\n",
    "\n",
    "# Empty DataFrame\n",
    "df_details = pd.DataFrame()\n",
    "\n",
    "# Unique columns for all products\n",
    "aux = []\n",
    "cols = ['art_no.', 'composition', 'fit', 'more_sustainable_materials', 'size']\n",
    "df_pattern = pd.DataFrame(columns = cols)\n",
    "\n",
    "for i in range(len(data)):\n",
    "\n",
    "    # API request \n",
    "    url_products = 'https://www2.hm.com/en_us/productpage.' + data.loc[i, 'product_id'] + '.html'\n",
    "    page_product = requests.get(url_products, headers = headers)\n",
    "\n",
    "    # Beautiful Soup Object\n",
    "    soup = BeautifulSoup(page_product.text, 'html.parser')\n",
    "\n",
    "    # product_color\n",
    "    product_list = soup.find_all('a', class_ = 'filter-option miniature')\n",
    "    \n",
    "    if len(product_list) > 0:\n",
    "        \n",
    "        color_name = [p.get('data-color') for p in product_list]\n",
    "        product_id = [p.get('data-articlecode') for p in product_list]\n",
    "        df_color = pd.DataFrame([product_id, color_name]).T\n",
    "        df_color.columns = ['product_id', 'color_name']\n",
    "        #================== Create Style Code and Color Code ==================#\n",
    "        df_color['style_code'] = df_color['product_id'].apply(lambda x: x[:-3])\n",
    "        df_color['color_id'] = df_color['product_id'].apply(lambda x: x[-3:]) \n",
    "\n",
    "    # product_composition\n",
    "    product_composition_list = soup.find_all('div', class_ = 'pdp-description-list-item')\n",
    "    \n",
    "    if len(product_composition_list) > 0:\n",
    "        product_composition = [list(filter(None, p.get_text().split('\\n'))) for p in product_composition_list]\n",
    "        df_composition = pd.DataFrame(product_composition).T\n",
    "        df_composition.columns = df_composition.iloc[0]\n",
    "        df_composition = df_composition.iloc[1:].fillna(method = 'ffill')\n",
    "\n",
    "        # Garantee the same number of columns\n",
    "        df_composition = pd.concat([df_pattern, df_composition], axis = 0)\n",
    "\n",
    "        #================== Create Style Code and Color Code ==================#\n",
    "        df_composition['style_code'] = df_composition['Art. No.'].apply(lambda x: x[:-3])\n",
    "        df_composition['color_id'] = df_composition['Art. No.'].apply(lambda x: x[-3:]) \n",
    "    \n",
    "    aux = aux + df_composition.columns.tolist()\n",
    "\n",
    "    ## Merging DataFrames\n",
    "    data_sku = pd.merge(df_color, df_composition[['style_code', 'Art. No.', 'Composition', 'Fit', 'More sustainable materials', 'Size']], how = 'left', on = 'style_code')\n",
    "    \n",
    "    df_details = pd.concat([df_details, data_sku], axis = 0)"
   ]
  },
  {
   "cell_type": "markdown",
   "id": "62cb423d-2569-4144-b916-e6cf6fbfb7de",
   "metadata": {},
   "source": [
    "### **Join showroom + details**"
   ]
  },
  {
   "cell_type": "code",
   "execution_count": 12,
   "id": "94db5007-53e1-49e6-a38e-276103749252",
   "metadata": {},
   "outputs": [],
   "source": [
    "data_raw = pd.merge(data, df_details[['style_code', 'color_name', 'Fit', 'Composition', 'Size']], how = 'left', on = 'style_code')"
   ]
  },
  {
   "cell_type": "code",
   "execution_count": 13,
   "id": "16349940-4e72-431c-8e95-ca4d8f3925d8",
   "metadata": {},
   "outputs": [],
   "source": [
    "# Saving data\n",
    "data_raw.to_csv('../datasets/data_raw_HM.csv', index = False)"
   ]
  }
 ],
 "metadata": {
  "kernelspec": {
   "display_name": "Python 3 (ipykernel)",
   "language": "python",
   "name": "python3"
  },
  "language_info": {
   "codemirror_mode": {
    "name": "ipython",
    "version": 3
   },
   "file_extension": ".py",
   "mimetype": "text/x-python",
   "name": "python",
   "nbconvert_exporter": "python",
   "pygments_lexer": "ipython3",
   "version": "3.9.4"
  },
  "widgets": {
   "application/vnd.jupyter.widget-state+json": {
    "state": {},
    "version_major": 2,
    "version_minor": 0
   }
  }
 },
 "nbformat": 4,
 "nbformat_minor": 5
}
