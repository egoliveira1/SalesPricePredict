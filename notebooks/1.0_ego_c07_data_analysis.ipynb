{
 "cells": [
  {
   "cell_type": "markdown",
   "id": "e14609b6-b59e-444c-9597-c4f15461afad",
   "metadata": {
    "tags": []
   },
   "source": [
    "# **Data Analysis**"
   ]
  },
  {
   "cell_type": "markdown",
   "id": "86f595b3-cb3a-4a24-9237-d6c9158101db",
   "metadata": {
    "tags": []
   },
   "source": [
    "## **Descriptive Data Analysis**"
   ]
  },
  {
   "cell_type": "markdown",
   "id": "4a0e9320-5320-45f4-84ce-9c66d4e5a33c",
   "metadata": {},
   "source": [
    "## **0. Imports**"
   ]
  },
  {
   "cell_type": "code",
   "execution_count": 43,
   "id": "24acc0b5-2664-4264-911a-7917de4d5a31",
   "metadata": {},
   "outputs": [],
   "source": [
    "import pandas as pd\n",
    "import numpy as np\n",
    "import sqlite3\n",
    "from sqlalchemy import create_engine"
   ]
  },
  {
   "cell_type": "markdown",
   "id": "8eb71534-b9dc-47c2-ba7f-5dd00d35a42d",
   "metadata": {},
   "source": [
    "### **0.1. Data Collection** "
   ]
  },
  {
   "cell_type": "code",
   "execution_count": 23,
   "id": "3d7a67ae-c51d-4f2f-b1b0-7cf4d319327e",
   "metadata": {},
   "outputs": [],
   "source": [
    "path = '/home/eron/repos/SalesPricePredict/'\n",
    "database_name = 'database_hm.sqlite'\n",
    "conn = create_engine('sqlite:///' + path + database_name, echo = False)"
   ]
  },
  {
   "cell_type": "code",
   "execution_count": 24,
   "id": "93907d75-a431-48cb-acea-c00399d8b4a6",
   "metadata": {},
   "outputs": [],
   "source": [
    "query = \"\"\"\n",
    "    SELECT * FROM vitrine\n",
    "\"\"\""
   ]
  },
  {
   "cell_type": "code",
   "execution_count": 25,
   "id": "8b5020e1-68d0-44fc-bc88-b3a06c988386",
   "metadata": {},
   "outputs": [],
   "source": [
    "df_raw = pd.read_sql(query, con = conn)"
   ]
  },
  {
   "cell_type": "markdown",
   "id": "77d1bb64-012c-4b83-a6a3-fcc185f08d4b",
   "metadata": {
    "tags": []
   },
   "source": [
    "## **1. Data Description**"
   ]
  },
  {
   "cell_type": "code",
   "execution_count": 28,
   "id": "2233e0b0-c281-4a99-b7d6-54f024a87625",
   "metadata": {},
   "outputs": [],
   "source": [
    "df01 = df_raw.copy()"
   ]
  },
  {
   "cell_type": "markdown",
   "id": "1cf28c89-01b3-419f-a767-b6b5e00226d5",
   "metadata": {
    "tags": []
   },
   "source": [
    "### **1.1. Data Dimension**"
   ]
  },
  {
   "cell_type": "code",
   "execution_count": 31,
   "id": "c48a1c77-5082-450c-be64-0a4a859e339f",
   "metadata": {},
   "outputs": [
    {
     "name": "stdout",
     "output_type": "stream",
     "text": [
      "Number of rows: 916\n",
      "Number of rows: 14\n"
     ]
    }
   ],
   "source": [
    "print('Number of rows: {}'.format(df01.shape[0]))\n",
    "print('Number of rows: {}'.format(df01.shape[1]))"
   ]
  },
  {
   "cell_type": "markdown",
   "id": "c52caadc-96c0-4cea-ab36-4f1803c117dc",
   "metadata": {
    "tags": []
   },
   "source": [
    "### **1.2. Data Types**"
   ]
  },
  {
   "cell_type": "code",
   "execution_count": 32,
   "id": "fa3f961d-a722-4bb0-aac8-bda7a1294435",
   "metadata": {},
   "outputs": [
    {
     "data": {
      "text/plain": [
       "product_id          object\n",
       "style_id            object\n",
       "color_id            object\n",
       "product_name        object\n",
       "color_name          object\n",
       "fit                 object\n",
       "product_price      float64\n",
       "size_number         object\n",
       "size_model          object\n",
       "cotton             float64\n",
       "polyester          float64\n",
       "elastane           float64\n",
       "elasterell         float64\n",
       "scrapy_datetime     object\n",
       "dtype: object"
      ]
     },
     "execution_count": 32,
     "metadata": {},
     "output_type": "execute_result"
    }
   ],
   "source": [
    "df01.dtypes"
   ]
  },
  {
   "cell_type": "code",
   "execution_count": 35,
   "id": "18cbb333-d2a9-420c-96d0-bf1957110b26",
   "metadata": {},
   "outputs": [],
   "source": [
    "# Convert object to datetime\n",
    "df01['scrapy_datetime'] = pd.to_datetime(df01['scrapy_datetime'])"
   ]
  },
  {
   "cell_type": "markdown",
   "id": "f709e574-dda3-4c72-9847-8c9207eb5fef",
   "metadata": {
    "tags": []
   },
   "source": [
    "### **1.3. Missing Data**"
   ]
  },
  {
   "cell_type": "code",
   "execution_count": 37,
   "id": "6f68a461-8aaa-4449-b32c-5b2055bde200",
   "metadata": {},
   "outputs": [
    {
     "data": {
      "text/plain": [
       "product_id           0\n",
       "style_id             0\n",
       "color_id             0\n",
       "product_name         0\n",
       "color_name           0\n",
       "fit                  0\n",
       "product_price        0\n",
       "size_number        721\n",
       "size_model         685\n",
       "cotton               0\n",
       "polyester            0\n",
       "elastane             0\n",
       "elasterell           0\n",
       "scrapy_datetime      0\n",
       "dtype: int64"
      ]
     },
     "execution_count": 37,
     "metadata": {},
     "output_type": "execute_result"
    }
   ],
   "source": [
    "df01.isna().sum()"
   ]
  },
  {
   "cell_type": "code",
   "execution_count": 38,
   "id": "8e51c1ef-6db7-40af-8706-504acf4aa2ce",
   "metadata": {},
   "outputs": [
    {
     "data": {
      "text/plain": [
       "product_id         0.000000\n",
       "style_id           0.000000\n",
       "color_id           0.000000\n",
       "product_name       0.000000\n",
       "color_name         0.000000\n",
       "fit                0.000000\n",
       "product_price      0.000000\n",
       "size_number        0.787118\n",
       "size_model         0.747817\n",
       "cotton             0.000000\n",
       "polyester          0.000000\n",
       "elastane           0.000000\n",
       "elasterell         0.000000\n",
       "scrapy_datetime    0.000000\n",
       "dtype: float64"
      ]
     },
     "execution_count": 38,
     "metadata": {},
     "output_type": "execute_result"
    }
   ],
   "source": [
    "df01.isna().sum() / df01.shape[0]"
   ]
  },
  {
   "cell_type": "markdown",
   "id": "f916d662-fc9f-4f17-873c-9c0360c9bda6",
   "metadata": {
    "tags": []
   },
   "source": [
    "### **1.4. Solving Missing Data**"
   ]
  },
  {
   "cell_type": "markdown",
   "id": "d3611f28-4df8-4d5e-b12a-6f397d40d475",
   "metadata": {},
   "source": [
    "After reviewing the ETL code and visiting the company's website, I noticed that the **size number** and **size model** data are not reported in the source, so I decided to **exclude the features**."
   ]
  },
  {
   "cell_type": "code",
   "execution_count": 39,
   "id": "59f1a9d0-2f4a-472e-b6d9-874fbfd7348a",
   "metadata": {},
   "outputs": [],
   "source": [
    "df01 = df01.drop(columns = ['size_number', 'size_model'])"
   ]
  },
  {
   "cell_type": "markdown",
   "id": "ad3bc670-ac81-496a-b433-34dde4555bd4",
   "metadata": {
    "tags": []
   },
   "source": [
    "### **1.5. Data Description**"
   ]
  },
  {
   "cell_type": "code",
   "execution_count": 42,
   "id": "2d739ee7-12ad-4378-801a-a84fbc2fe524",
   "metadata": {},
   "outputs": [],
   "source": [
    "num_attributes = df01.select_dtypes(include = ['float64', 'int64'])\n",
    "cat_attributes = df01.select_dtypes(exclude = ['float64', 'int64', 'datetime64[ns]'])"
   ]
  },
  {
   "cell_type": "markdown",
   "id": "760dc8f9-dfbe-430f-a54b-476578c1435a",
   "metadata": {},
   "source": [
    "#### **1.5.1. Numerical Data**"
   ]
  },
  {
   "cell_type": "code",
   "execution_count": 48,
   "id": "544156d4-05e6-4290-8e64-bb34858f7341",
   "metadata": {},
   "outputs": [
    {
     "data": {
      "text/html": [
       "<div>\n",
       "<style scoped>\n",
       "    .dataframe tbody tr th:only-of-type {\n",
       "        vertical-align: middle;\n",
       "    }\n",
       "\n",
       "    .dataframe tbody tr th {\n",
       "        vertical-align: top;\n",
       "    }\n",
       "\n",
       "    .dataframe thead th {\n",
       "        text-align: right;\n",
       "    }\n",
       "</style>\n",
       "<table border=\"1\" class=\"dataframe\">\n",
       "  <thead>\n",
       "    <tr style=\"text-align: right;\">\n",
       "      <th></th>\n",
       "      <th>attributes</th>\n",
       "      <th>min</th>\n",
       "      <th>max</th>\n",
       "      <th>range</th>\n",
       "      <th>mean</th>\n",
       "      <th>median</th>\n",
       "      <th>std</th>\n",
       "      <th>skew</th>\n",
       "      <th>kurtosis</th>\n",
       "    </tr>\n",
       "  </thead>\n",
       "  <tbody>\n",
       "    <tr>\n",
       "      <th>0</th>\n",
       "      <td>product_price</td>\n",
       "      <td>5.99</td>\n",
       "      <td>49.99</td>\n",
       "      <td>44.00</td>\n",
       "      <td>26.313144</td>\n",
       "      <td>24.99</td>\n",
       "      <td>9.909875</td>\n",
       "      <td>0.568862</td>\n",
       "      <td>-0.216318</td>\n",
       "    </tr>\n",
       "    <tr>\n",
       "      <th>1</th>\n",
       "      <td>cotton</td>\n",
       "      <td>0.66</td>\n",
       "      <td>1.00</td>\n",
       "      <td>0.34</td>\n",
       "      <td>0.962969</td>\n",
       "      <td>0.98</td>\n",
       "      <td>0.063127</td>\n",
       "      <td>-2.439100</td>\n",
       "      <td>5.463768</td>\n",
       "    </tr>\n",
       "    <tr>\n",
       "      <th>2</th>\n",
       "      <td>polyester</td>\n",
       "      <td>0.00</td>\n",
       "      <td>1.00</td>\n",
       "      <td>1.00</td>\n",
       "      <td>0.175404</td>\n",
       "      <td>0.00</td>\n",
       "      <td>0.284468</td>\n",
       "      <td>1.384655</td>\n",
       "      <td>0.422636</td>\n",
       "    </tr>\n",
       "    <tr>\n",
       "      <th>3</th>\n",
       "      <td>elastane</td>\n",
       "      <td>0.00</td>\n",
       "      <td>0.02</td>\n",
       "      <td>0.02</td>\n",
       "      <td>0.005502</td>\n",
       "      <td>0.00</td>\n",
       "      <td>0.007935</td>\n",
       "      <td>0.983963</td>\n",
       "      <td>-0.702336</td>\n",
       "    </tr>\n",
       "    <tr>\n",
       "      <th>4</th>\n",
       "      <td>elasterell</td>\n",
       "      <td>0.00</td>\n",
       "      <td>0.09</td>\n",
       "      <td>0.09</td>\n",
       "      <td>0.005524</td>\n",
       "      <td>0.00</td>\n",
       "      <td>0.020332</td>\n",
       "      <td>3.416728</td>\n",
       "      <td>9.705184</td>\n",
       "    </tr>\n",
       "  </tbody>\n",
       "</table>\n",
       "</div>"
      ],
      "text/plain": [
       "      attributes   min    max  range       mean  median       std      skew  \\\n",
       "0  product_price  5.99  49.99  44.00  26.313144   24.99  9.909875  0.568862   \n",
       "1         cotton  0.66   1.00   0.34   0.962969    0.98  0.063127 -2.439100   \n",
       "2      polyester  0.00   1.00   1.00   0.175404    0.00  0.284468  1.384655   \n",
       "3       elastane  0.00   0.02   0.02   0.005502    0.00  0.007935  0.983963   \n",
       "4     elasterell  0.00   0.09   0.09   0.005524    0.00  0.020332  3.416728   \n",
       "\n",
       "   kurtosis  \n",
       "0 -0.216318  \n",
       "1  5.463768  \n",
       "2  0.422636  \n",
       "3 -0.702336  \n",
       "4  9.705184  "
      ]
     },
     "execution_count": 48,
     "metadata": {},
     "output_type": "execute_result"
    }
   ],
   "source": [
    "# Central tendency - mean and median\n",
    "t1 = pd.DataFrame(num_attributes.apply(np.mean)).T\n",
    "t2 = pd.DataFrame(num_attributes.apply(np.median)).T\n",
    "\n",
    "# Dispersion - std, min, max, range, skew, kurtosis\n",
    "d1 = pd.DataFrame(num_attributes.apply(np.std)).T\n",
    "d2 = pd.DataFrame(num_attributes.apply(np.min)).T\n",
    "d3 = pd.DataFrame(num_attributes.apply(np.max)).T\n",
    "d4 = pd.DataFrame(num_attributes.apply(lambda x: x.max() - x.min())).T\n",
    "d5 = pd.DataFrame(num_attributes.apply(lambda x: x.skew())).T\n",
    "d6 = pd.DataFrame(num_attributes.apply(lambda x: x.kurtosis())).T\n",
    "\n",
    "# Concat\n",
    "m1 = pd.concat([d2, d3, d4, t1, t2, d1, d5, d6]).T.reset_index()\n",
    "m1.columns = ['attributes', 'min', 'max', 'range', 'mean', 'median', 'std', 'skew', 'kurtosis']\n",
    "m1"
   ]
  },
  {
   "cell_type": "markdown",
   "id": "a776dfac-0f79-4cea-858b-25a34d9dd96f",
   "metadata": {},
   "source": [
    "#### **1.5.2. Categorical Data**"
   ]
  },
  {
   "cell_type": "code",
   "execution_count": null,
   "id": "aae57f8f-7e14-468d-a057-ee4c081b84bb",
   "metadata": {},
   "outputs": [],
   "source": []
  },
  {
   "cell_type": "code",
   "execution_count": null,
   "id": "52b608c6-bdb4-4964-8c9f-17cc493336fd",
   "metadata": {},
   "outputs": [],
   "source": []
  },
  {
   "cell_type": "code",
   "execution_count": null,
   "id": "2fa3f805-59fc-4f73-b436-aaf1d6392740",
   "metadata": {},
   "outputs": [],
   "source": []
  },
  {
   "cell_type": "markdown",
   "id": "732e079d-cb21-4cb7-bf82-e062e32bac52",
   "metadata": {
    "tags": []
   },
   "source": [
    "### **2. Feature Engineering**"
   ]
  },
  {
   "cell_type": "code",
   "execution_count": null,
   "id": "7edb2b1f-4806-467f-a5cc-a954cd373261",
   "metadata": {},
   "outputs": [],
   "source": []
  },
  {
   "cell_type": "code",
   "execution_count": null,
   "id": "52a52012-9da3-4b98-a2fc-7ad10907cd04",
   "metadata": {},
   "outputs": [],
   "source": []
  },
  {
   "cell_type": "markdown",
   "id": "f9b91834-87c4-4a9c-b810-7762c6d7d435",
   "metadata": {
    "tags": []
   },
   "source": [
    "### **3. Data Filtering**"
   ]
  },
  {
   "cell_type": "code",
   "execution_count": null,
   "id": "f3839ea8-552c-4c61-b888-ffbbcec61939",
   "metadata": {},
   "outputs": [],
   "source": []
  },
  {
   "cell_type": "code",
   "execution_count": null,
   "id": "986b4a4a-a4e8-4f09-bc56-cc41730d39be",
   "metadata": {},
   "outputs": [],
   "source": []
  },
  {
   "cell_type": "markdown",
   "id": "8b31df8f-df19-4f08-8111-9918f609b9e8",
   "metadata": {
    "tags": []
   },
   "source": [
    "### **4. EDA - Exploratory Data Analysis**"
   ]
  },
  {
   "cell_type": "code",
   "execution_count": null,
   "id": "d9b1ab0f-73c3-4990-9f4d-b160ef6f687b",
   "metadata": {},
   "outputs": [],
   "source": []
  },
  {
   "cell_type": "code",
   "execution_count": null,
   "id": "f5b8e98d-f14c-402d-8454-eb745c05e773",
   "metadata": {},
   "outputs": [],
   "source": []
  }
 ],
 "metadata": {
  "kernelspec": {
   "display_name": "Python 3 (ipykernel)",
   "language": "python",
   "name": "python3"
  },
  "language_info": {
   "codemirror_mode": {
    "name": "ipython",
    "version": 3
   },
   "file_extension": ".py",
   "mimetype": "text/x-python",
   "name": "python",
   "nbconvert_exporter": "python",
   "pygments_lexer": "ipython3",
   "version": "3.9.4"
  }
 },
 "nbformat": 4,
 "nbformat_minor": 5
}
